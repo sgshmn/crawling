{
 "cells": [
  {
   "cell_type": "markdown",
   "id": "0163af1c",
   "metadata": {},
   "source": [
    "# 문제 2.1"
   ]
  },
  {
   "cell_type": "code",
   "execution_count": 1,
   "id": "236a0a20",
   "metadata": {},
   "outputs": [],
   "source": [
    "from selenium import webdriver as wb\n",
    "from selenium.webdriver.common.by import By"
   ]
  },
  {
   "cell_type": "code",
   "execution_count": 2,
   "id": "66349350",
   "metadata": {},
   "outputs": [],
   "source": [
    "url = 'http://corners.gmarket.co.kr/Bestsellers'\n",
    "\n",
    "driver = wb.Chrome()\n",
    "driver.get(url)"
   ]
  },
  {
   "cell_type": "code",
   "execution_count": 3,
   "id": "18e9650e",
   "metadata": {},
   "outputs": [],
   "source": [
    "names = driver.find_elements(By.CLASS_NAME, value='itemname')\n",
    "prices = driver.find_elements(By.CSS_SELECTOR, value='.s-price>strong>span>span')  "
   ]
  },
  {
   "cell_type": "code",
   "execution_count": 4,
   "id": "d287374f",
   "metadata": {},
   "outputs": [],
   "source": [
    "names20 = []\n",
    "prices20 = []\n",
    "for i in range(20):\n",
    "    names20.append(names[i].text)\n",
    "    prices20.append(prices[i].text)"
   ]
  },
  {
   "cell_type": "markdown",
   "id": "1b478118",
   "metadata": {},
   "source": [
    "# 문제2.2"
   ]
  },
  {
   "cell_type": "code",
   "execution_count": 5,
   "id": "a7abdb30",
   "metadata": {},
   "outputs": [],
   "source": [
    "import pandas as pd"
   ]
  },
  {
   "cell_type": "code",
   "execution_count": 6,
   "id": "644e1a8c",
   "metadata": {},
   "outputs": [],
   "source": [
    "goods_dic = {\n",
    "    \"상품명\":names20,\n",
    "    \"가격\":prices20\n",
    "}"
   ]
  },
  {
   "cell_type": "code",
   "execution_count": 7,
   "id": "930c6464",
   "metadata": {},
   "outputs": [],
   "source": [
    "goods_df = pd.DataFrame(goods_dic)"
   ]
  },
  {
   "cell_type": "code",
   "execution_count": 8,
   "id": "4e727d0d",
   "metadata": {},
   "outputs": [
    {
     "data": {
      "text/html": [
       "<div>\n",
       "<style scoped>\n",
       "    .dataframe tbody tr th:only-of-type {\n",
       "        vertical-align: middle;\n",
       "    }\n",
       "\n",
       "    .dataframe tbody tr th {\n",
       "        vertical-align: top;\n",
       "    }\n",
       "\n",
       "    .dataframe thead th {\n",
       "        text-align: right;\n",
       "    }\n",
       "</style>\n",
       "<table border=\"1\" class=\"dataframe\">\n",
       "  <thead>\n",
       "    <tr style=\"text-align: right;\">\n",
       "      <th></th>\n",
       "      <th>상품명</th>\n",
       "      <th>가격</th>\n",
       "    </tr>\n",
       "  </thead>\n",
       "  <tbody>\n",
       "    <tr>\n",
       "      <th>0</th>\n",
       "      <td>(레드루트(Redroot)) (광주신세계)[레드루트](세제1개증정)세탁세제 1L 3개</td>\n",
       "      <td>44,820원</td>\n",
       "    </tr>\n",
       "    <tr>\n",
       "      <th>1</th>\n",
       "      <td>[네파키즈](신세계강남점)[네파키즈] 역시즌 헤비 미들 구스다운 KHF2034 KH...</td>\n",
       "      <td>72,270원</td>\n",
       "    </tr>\n",
       "    <tr>\n",
       "      <th>2</th>\n",
       "      <td>[리벤스]사선컷팅 테이프크리너 리필 15입(3입5개)</td>\n",
       "      <td>13,900원</td>\n",
       "    </tr>\n",
       "    <tr>\n",
       "      <th>3</th>\n",
       "      <td>[롯데칠성]펩시콜라 제로 500mlx20펫 (무바코드)</td>\n",
       "      <td>15,900원</td>\n",
       "    </tr>\n",
       "    <tr>\n",
       "      <th>4</th>\n",
       "      <td>[피셔프라이스]피셔프라이스 러프앤런 링쌓기 세트</td>\n",
       "      <td>39,900원</td>\n",
       "    </tr>\n",
       "    <tr>\n",
       "      <th>5</th>\n",
       "      <td>[보리보리/블루래빗]아기와 놀아주는 꼬꼬맘</td>\n",
       "      <td>35,300원</td>\n",
       "    </tr>\n",
       "    <tr>\n",
       "      <th>6</th>\n",
       "      <td>포켓몬카드 강화확장팩 다크판타스마</td>\n",
       "      <td>38,270원</td>\n",
       "    </tr>\n",
       "    <tr>\n",
       "      <th>7</th>\n",
       "      <td>루솔 진한 배도라지즙 40포 선물세트</td>\n",
       "      <td>33,400원</td>\n",
       "    </tr>\n",
       "    <tr>\n",
       "      <th>8</th>\n",
       "      <td>[마녀바스켓]장인의 전통 생 메밀소바 10인분(개별포장/생메밀면 10팩+소스10팩)...</td>\n",
       "      <td>14,100원</td>\n",
       "    </tr>\n",
       "    <tr>\n",
       "      <th>9</th>\n",
       "      <td>베베잇츠 동결건조 과일칩 요거트큐브 5+5봉 골라담기</td>\n",
       "      <td>22,300원</td>\n",
       "    </tr>\n",
       "    <tr>\n",
       "      <th>10</th>\n",
       "      <td>[토루토루]토루토루아기액상세제 세탁용x2개 세트</td>\n",
       "      <td>39,950원</td>\n",
       "    </tr>\n",
       "    <tr>\n",
       "      <th>11</th>\n",
       "      <td>청정우 우삼겹 3초구이 샤브용 250gX4팩</td>\n",
       "      <td>14,500원</td>\n",
       "    </tr>\n",
       "    <tr>\n",
       "      <th>12</th>\n",
       "      <td>[건국우유]건국 착한목장 무항생제 인증우유 190ml 48팩</td>\n",
       "      <td>27,900원</td>\n",
       "    </tr>\n",
       "    <tr>\n",
       "      <th>13</th>\n",
       "      <td>[마마랩]마마랩 아기물티슈 오리지널 80매 캡형X10팩</td>\n",
       "      <td>9,900원</td>\n",
       "    </tr>\n",
       "    <tr>\n",
       "      <th>14</th>\n",
       "      <td>[상하치즈]상하 유기농 어린이 고칼슘치즈 4단계 100매 + 치즈 10매 증정</td>\n",
       "      <td>29,500원</td>\n",
       "    </tr>\n",
       "    <tr>\n",
       "      <th>15</th>\n",
       "      <td>[하기스]NEW 2021 네이처메이드 밴드/팬티 2박스 모음전</td>\n",
       "      <td>89,900원</td>\n",
       "    </tr>\n",
       "    <tr>\n",
       "      <th>16</th>\n",
       "      <td>보우짱 미니밤호박 밤단호박 단호박 제주직송 밤단호박 보우짱 대용량 7kg</td>\n",
       "      <td>19,900원</td>\n",
       "    </tr>\n",
       "    <tr>\n",
       "      <th>17</th>\n",
       "      <td>[애플크럼비]애플크럼비 프리미엄 슬림 기저귀 팬티형XL 6팩</td>\n",
       "      <td>49,900원</td>\n",
       "    </tr>\n",
       "    <tr>\n",
       "      <th>18</th>\n",
       "      <td>(포켓몬) 포켓몬카드 소드 실드 다크판타스마</td>\n",
       "      <td>39,560원</td>\n",
       "    </tr>\n",
       "    <tr>\n",
       "      <th>19</th>\n",
       "      <td>[연세우유]연세우유 멸균우유 48팩</td>\n",
       "      <td>24,500원</td>\n",
       "    </tr>\n",
       "  </tbody>\n",
       "</table>\n",
       "</div>"
      ],
      "text/plain": [
       "                                                  상품명       가격\n",
       "0     (레드루트(Redroot)) (광주신세계)[레드루트](세제1개증정)세탁세제 1L 3개  44,820원\n",
       "1   [네파키즈](신세계강남점)[네파키즈] 역시즌 헤비 미들 구스다운 KHF2034 KH...  72,270원\n",
       "2                       [리벤스]사선컷팅 테이프크리너 리필 15입(3입5개)  13,900원\n",
       "3                      [롯데칠성]펩시콜라 제로 500mlx20펫 (무바코드)  15,900원\n",
       "4                          [피셔프라이스]피셔프라이스 러프앤런 링쌓기 세트  39,900원\n",
       "5                             [보리보리/블루래빗]아기와 놀아주는 꼬꼬맘  35,300원\n",
       "6                                  포켓몬카드 강화확장팩 다크판타스마  38,270원\n",
       "7                                루솔 진한 배도라지즙 40포 선물세트  33,400원\n",
       "8   [마녀바스켓]장인의 전통 생 메밀소바 10인분(개별포장/생메밀면 10팩+소스10팩)...  14,100원\n",
       "9                       베베잇츠 동결건조 과일칩 요거트큐브 5+5봉 골라담기  22,300원\n",
       "10                         [토루토루]토루토루아기액상세제 세탁용x2개 세트  39,950원\n",
       "11                           청정우 우삼겹 3초구이 샤브용 250gX4팩  14,500원\n",
       "12                  [건국우유]건국 착한목장 무항생제 인증우유 190ml 48팩  27,900원\n",
       "13                     [마마랩]마마랩 아기물티슈 오리지널 80매 캡형X10팩   9,900원\n",
       "14        [상하치즈]상하 유기농 어린이 고칼슘치즈 4단계 100매 + 치즈 10매 증정  29,500원\n",
       "15                 [하기스]NEW 2021 네이처메이드 밴드/팬티 2박스 모음전  89,900원\n",
       "16           보우짱 미니밤호박 밤단호박 단호박 제주직송 밤단호박 보우짱 대용량 7kg  19,900원\n",
       "17                  [애플크럼비]애플크럼비 프리미엄 슬림 기저귀 팬티형XL 6팩  49,900원\n",
       "18                           (포켓몬) 포켓몬카드 소드 실드 다크판타스마  39,560원\n",
       "19                                [연세우유]연세우유 멸균우유 48팩  24,500원"
      ]
     },
     "execution_count": 8,
     "metadata": {},
     "output_type": "execute_result"
    }
   ],
   "source": [
    "goods_df"
   ]
  },
  {
   "cell_type": "code",
   "execution_count": null,
   "id": "fa4b2309",
   "metadata": {},
   "outputs": [],
   "source": []
  },
  {
   "cell_type": "code",
   "execution_count": null,
   "id": "973dfac0",
   "metadata": {},
   "outputs": [],
   "source": []
  }
 ],
 "metadata": {
  "kernelspec": {
   "display_name": "Python 3 (ipykernel)",
   "language": "python",
   "name": "python3"
  },
  "language_info": {
   "codemirror_mode": {
    "name": "ipython",
    "version": 3
   },
   "file_extension": ".py",
   "mimetype": "text/x-python",
   "name": "python",
   "nbconvert_exporter": "python",
   "pygments_lexer": "ipython3",
   "version": "3.9.12"
  }
 },
 "nbformat": 4,
 "nbformat_minor": 5
}
